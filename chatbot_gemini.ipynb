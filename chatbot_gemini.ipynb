{
  "nbformat": 4,
  "nbformat_minor": 0,
  "metadata": {
    "colab": {
      "provenance": [],
      "authorship_tag": "ABX9TyOBUV/AAuxMR0Ly6OKO7mnb",
      "include_colab_link": true
    },
    "kernelspec": {
      "name": "python3",
      "display_name": "Python 3"
    },
    "language_info": {
      "name": "python"
    }
  },
  "cells": [
    {
      "cell_type": "markdown",
      "metadata": {
        "id": "view-in-github",
        "colab_type": "text"
      },
      "source": [
        "<a href=\"https://colab.research.google.com/github/pedrohenriquebrandao/chatbot-ai-gemini/blob/main/chatbot_gemini.ipynb\" target=\"_parent\"><img src=\"https://colab.research.google.com/assets/colab-badge.svg\" alt=\"Open In Colab\"/></a>"
      ]
    },
    {
      "cell_type": "markdown",
      "source": [
        "Instalando o SDK do Google"
      ],
      "metadata": {
        "id": "e3g9pEK-SmcZ"
      }
    },
    {
      "cell_type": "code",
      "execution_count": 24,
      "metadata": {
        "id": "V71quuoxP-qc"
      },
      "outputs": [],
      "source": [
        "!pip install -q -U google-generativeai"
      ]
    },
    {
      "cell_type": "code",
      "source": [
        "import google.generativeai as genai\n",
        "\n",
        "GOOGLE_API_KEY=\"SECRET_KEY\"\n",
        "genai.configure(api_key=GOOGLE_API_KEY)"
      ],
      "metadata": {
        "id": "Xz6tB2Q0QWoM"
      },
      "execution_count": 25,
      "outputs": []
    },
    {
      "cell_type": "markdown",
      "source": [
        "Listar os modelos disponíveis"
      ],
      "metadata": {
        "id": "_uwArr6US99F"
      }
    },
    {
      "cell_type": "code",
      "source": [
        "for m in genai.list_models():\n",
        "  if 'generateContent' in m.supported_generation_methods:\n",
        "    print(m.name)"
      ],
      "metadata": {
        "id": "2tIvoAhEQzXf",
        "colab": {
          "base_uri": "https://localhost:8080/",
          "height": 139
        },
        "outputId": "0be679b4-8cdc-447b-e85d-aabf5327daf8"
      },
      "execution_count": 16,
      "outputs": [
        {
          "output_type": "stream",
          "name": "stdout",
          "text": [
            "models/gemini-1.0-pro\n",
            "models/gemini-1.0-pro-001\n",
            "models/gemini-1.0-pro-latest\n",
            "models/gemini-1.0-pro-vision-latest\n",
            "models/gemini-1.5-pro-latest\n",
            "models/gemini-pro\n",
            "models/gemini-pro-vision\n"
          ]
        }
      ]
    },
    {
      "cell_type": "code",
      "source": [
        "generation_config = {\n",
        "    \"candidate_count\": 1,\n",
        "    \"temperature\": 0.5,\n",
        "}"
      ],
      "metadata": {
        "id": "lFSqWTFnU9Fw"
      },
      "execution_count": 27,
      "outputs": []
    },
    {
      "cell_type": "code",
      "source": [
        "safety_settings = [\n",
        "  {\n",
        "    \"category\": \"HARM_CATEGORY_HARASSMENT\",\n",
        "    \"threshold\": \"BLOCK_MEDIUM_AND_ABOVE\"\n",
        "  },\n",
        "  {\n",
        "    \"category\": \"HARM_CATEGORY_HATE_SPEECH\",\n",
        "    \"threshold\": \"BLOCK_MEDIUM_AND_ABOVE\"\n",
        "  },\n",
        "  {\n",
        "    \"category\": \"HARM_CATEGORY_SEXUALLY_EXPLICIT\",\n",
        "    \"threshold\": \"BLOCK_MEDIUM_AND_ABOVE\"\n",
        "  },\n",
        "  {\n",
        "    \"category\": \"HARM_CATEGORY_DANGEROUS_CONTENT\",\n",
        "    \"threshold\": \"BLOCK_MEDIUM_AND_ABOVE\"\n",
        "  },\n",
        "]"
      ],
      "metadata": {
        "id": "jsff7_zCVUJQ"
      },
      "execution_count": 35,
      "outputs": []
    },
    {
      "cell_type": "markdown",
      "source": [
        "Inicializando o modelo"
      ],
      "metadata": {
        "id": "Ca_N52thX23T"
      }
    },
    {
      "cell_type": "code",
      "source": [
        "model = genai.GenerativeModel(model_name=\"gemini-1.0-pro\",\n",
        "                              generation_config=generation_config,\n",
        "                              safety_settings=safety_settings)"
      ],
      "metadata": {
        "id": "ZLoyF4YZV1w4"
      },
      "execution_count": 36,
      "outputs": []
    },
    {
      "cell_type": "code",
      "source": [
        "chat = model.start_chat(history=[])"
      ],
      "metadata": {
        "id": "SsA4cjVFWyY6"
      },
      "execution_count": 37,
      "outputs": []
    },
    {
      "cell_type": "code",
      "source": [
        "prompt = input(\"Esperando prompt: \")\n",
        "\n",
        "while prompt != \"sair\":\n",
        "  response = chat.send_message(prompt)\n",
        "  print(\"Resposta\", response.text, \"\\n\")\n",
        "  prompt = input(\"Esperando prompt: \")"
      ],
      "metadata": {
        "colab": {
          "base_uri": "https://localhost:8080/",
          "height": 419
        },
        "id": "Y_5_ktpaZNdf",
        "outputId": "97600c47-70b1-41c8-ab76-2bb1f1a004c4"
      },
      "execution_count": 44,
      "outputs": [
        {
          "name": "stdout",
          "output_type": "stream",
          "text": [
            "Esperando prompt: Liste todas as missões triupuladas que viajaram até a lua e o objetivo de cada uma\n",
            "Resposta **Missões Tripuladas que Viajaram até a Lua e seus Objetivos:**\n",
            "\n",
            "* **Apollo 11** (1969): Primeira missão a pousar humanos na Lua. Objetivo: Demonstrar a capacidade humana de pousar na Lua e retornar com segurança à Terra.\n",
            "\n",
            "* **Apollo 12** (1969): Segunda missão a pousar humanos na Lua. Objetivo: Explorar a superfície lunar com maior precisão e realizar experimentos científicos.\n",
            "\n",
            "* **Apollo 14** (1971): Terceira missão a pousar humanos na Lua. Objetivo: Explorar uma região diferente da Lua (Fra Mauro) e realizar experimentos científicos adicionais.\n",
            "\n",
            "* **Apollo 15** (1971): Quarta missão a pousar humanos na Lua. Objetivo: Explorar a região Hadley-Apennine, coletar amostras lunares e implantar experimentos científicos de longo prazo.\n",
            "\n",
            "* **Apollo 16** (1972): Quinta missão a pousar humanos na Lua. Objetivo: Explorar a região Descartes e realizar experimentos científicos relacionados à evolução lunar.\n",
            "\n",
            "* **Apollo 17** (1972): Sexta e última missão a pousar humanos na Lua. Objetivo: Explorar a região Taurus-Littrow, realizar experimentos científicos abrangentes e implantar um rover lunar.\n",
            "\n",
            "Além desses objetivos específicos, as missões Apollo também tinham objetivos gerais, como:\n",
            "\n",
            "* Avançar o conhecimento científico sobre a Lua e o sistema solar\n",
            "* Demonstrar a superioridade tecnológica dos Estados Unidos\n",
            "* Inspirar o mundo e promover a cooperação internacional no espaço \n",
            "\n",
            "Esperando prompt: sair\n"
          ]
        }
      ]
    }
  ]
}